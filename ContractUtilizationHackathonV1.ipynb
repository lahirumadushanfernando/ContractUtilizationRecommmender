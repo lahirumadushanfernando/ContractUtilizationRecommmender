{
  "nbformat": 4,
  "nbformat_minor": 0,
  "metadata": {
    "colab": {
      "provenance": [],
      "collapsed_sections": [],
      "include_colab_link": true
    },
    "kernelspec": {
      "name": "python3",
      "display_name": "Python 3"
    },
    "language_info": {
      "name": "python"
    }
  },
  "cells": [
    {
      "cell_type": "markdown",
      "metadata": {
        "id": "view-in-github",
        "colab_type": "text"
      },
      "source": [
        "<a href=\"https://colab.research.google.com/github/lahirumadushanfernando/ContractUtilizationRecommmender/blob/main/ContractUtilizationHackathonV1.ipynb\" target=\"_parent\"><img src=\"https://colab.research.google.com/assets/colab-badge.svg\" alt=\"Open In Colab\"/></a>"
      ]
    },
    {
      "cell_type": "code",
      "source": [
        "!pip install fuzzywuzzy"
      ],
      "metadata": {
        "colab": {
          "base_uri": "https://localhost:8080/"
        },
        "id": "3gBlXbO2P9po",
        "outputId": "e6e96c13-4aa5-452d-be57-ae747cc551f7"
      },
      "execution_count": 1,
      "outputs": [
        {
          "output_type": "stream",
          "name": "stdout",
          "text": [
            "Looking in indexes: https://pypi.org/simple, https://us-python.pkg.dev/colab-wheels/public/simple/\n",
            "Collecting fuzzywuzzy\n",
            "  Downloading fuzzywuzzy-0.18.0-py2.py3-none-any.whl (18 kB)\n",
            "Installing collected packages: fuzzywuzzy\n",
            "Successfully installed fuzzywuzzy-0.18.0\n"
          ]
        }
      ]
    },
    {
      "cell_type": "code",
      "execution_count": 20,
      "metadata": {
        "id": "04Ntsn0VPfaD",
        "colab": {
          "base_uri": "https://localhost:8080/",
          "height": 34
        },
        "outputId": "7131051b-a640-4ca8-9178-530a67ca2ea6"
      },
      "outputs": [
        {
          "output_type": "display_data",
          "data": {
            "application/javascript": [
              "IPython.notebook.set_autosave_interval(120000)"
            ]
          },
          "metadata": {}
        },
        {
          "output_type": "stream",
          "name": "stdout",
          "text": [
            "Autosaving every 120 seconds\n"
          ]
        }
      ],
      "source": [
        "# importing the libraries\n",
        "import pandas as pd\n",
        "from difflib import SequenceMatcher\n",
        "import numpy as np\n",
        "import re\n",
        "from fuzzywuzzy import process, fuzz\n",
        "from difflib import SequenceMatcher\n",
        "from google.colab import files\n",
        "import warnings\n",
        "warnings.filterwarnings(\"ignore\")\n",
        "%autosave 120"
      ]
    },
    {
      "cell_type": "code",
      "source": [
        "# definition of source path\n",
        "path = 'https://raw.githubusercontent.com/lahirumadushanfernando/ContractUtilizationRecommmender/main/AllContracts.csv'\n",
        "sheet_name = 'AllContracts'"
      ],
      "metadata": {
        "id": "O-KlmkNfPvJ4"
      },
      "execution_count": 3,
      "outputs": []
    },
    {
      "cell_type": "code",
      "source": [
        "# loading data into a data frame\n",
        "data = pd.read_csv(path, encoding = 'unicode_escape')\n",
        "# renaming the columns\n",
        "# data.rename(columns={'Deletion indicator': 'DeletionIndicator', 'Long Text' : 'LongText'}, inplace=True)\n",
        "data.shape\n",
        "# data.head(2)"
      ],
      "metadata": {
        "colab": {
          "base_uri": "https://localhost:8080/"
        },
        "id": "qzIpMlTEP6LS",
        "outputId": "26c3f06d-c3c2-4db3-ebb2-2f254714f91c"
      },
      "execution_count": 4,
      "outputs": [
        {
          "output_type": "execute_result",
          "data": {
            "text/plain": [
              "(30000, 24)"
            ]
          },
          "metadata": {},
          "execution_count": 4
        }
      ]
    },
    {
      "cell_type": "code",
      "source": [
        "# loading the deleted lines into a data frame\n",
        "deleted_lines = data.query(\"DELETION_INDICATOR in ('L','S')\")\n",
        "deleted_lines.shape"
      ],
      "metadata": {
        "colab": {
          "base_uri": "https://localhost:8080/"
        },
        "id": "MpgelatkQYFx",
        "outputId": "ec4d8039-f9e8-4689-a0e6-0ab9b79416bd"
      },
      "execution_count": 5,
      "outputs": [
        {
          "output_type": "execute_result",
          "data": {
            "text/plain": [
              "(6182, 24)"
            ]
          },
          "metadata": {},
          "execution_count": 5
        }
      ]
    },
    {
      "cell_type": "code",
      "source": [
        "# removing the deleted lines from original data\n",
        "active_data = pd.concat([data, deleted_lines]).drop_duplicates(keep=False)\n",
        "active_data.shape"
      ],
      "metadata": {
        "colab": {
          "base_uri": "https://localhost:8080/"
        },
        "id": "rpxObiJyQYtQ",
        "outputId": "43789cb8-45df-496d-f294-4034eab158b5"
      },
      "execution_count": 6,
      "outputs": [
        {
          "output_type": "execute_result",
          "data": {
            "text/plain": [
              "(23818, 24)"
            ]
          },
          "metadata": {},
          "execution_count": 6
        }
      ]
    },
    {
      "cell_type": "code",
      "source": [
        "# loading the CCTR order types into a data frame\n",
        "cctr_lines = active_data.query(\"ORDER_TYPE in ('CCTR')\")\n",
        "cctr_lines.shape"
      ],
      "metadata": {
        "colab": {
          "base_uri": "https://localhost:8080/"
        },
        "id": "mcCyECcYQxmM",
        "outputId": "7977b480-498b-47c3-c142-5c50c26909c1"
      },
      "execution_count": 7,
      "outputs": [
        {
          "output_type": "execute_result",
          "data": {
            "text/plain": [
              "(6610, 24)"
            ]
          },
          "metadata": {},
          "execution_count": 7
        }
      ]
    },
    {
      "cell_type": "code",
      "source": [
        "# removing the CCTR lines from active data\n",
        "active_data = pd.concat([active_data, cctr_lines]).drop_duplicates(keep=False)\n",
        "active_data.shape"
      ],
      "metadata": {
        "colab": {
          "base_uri": "https://localhost:8080/"
        },
        "id": "ama3E-eiSc4m",
        "outputId": "4b485a2c-5e45-4ba8-d1eb-d21a1227760a"
      },
      "execution_count": 8,
      "outputs": [
        {
          "output_type": "execute_result",
          "data": {
            "text/plain": [
              "(17208, 24)"
            ]
          },
          "metadata": {},
          "execution_count": 8
        }
      ]
    },
    {
      "cell_type": "code",
      "source": [
        "# Examining the data type of the column\n",
        "# active_data.VALIDITY_START_DATE.dtype\n",
        "\n",
        "# Getting the year and month part of the VALIDITY_START_DATE\n",
        "active_data['YEAR'] = pd.DatetimeIndex(active_data['VALIDITY_START_DATE']).year\n",
        "active_data['MONTH'] = pd.DatetimeIndex(active_data['VALIDITY_START_DATE']).month"
      ],
      "metadata": {
        "id": "gleONJZeeAzo"
      },
      "execution_count": 9,
      "outputs": []
    },
    {
      "cell_type": "code",
      "source": [
        "active_data['LONG_TEXT_DES'] = active_data['LONG_TEXT'].str.split('-').str[0] \n",
        "active_data['LONG_TEXT_DES'] = active_data['LONG_TEXT_DES'].str.replace(' ', '')\n",
        "active_data['LONG_TEXT_DES'] = active_data['LONG_TEXT_DES'].str.upper()"
      ],
      "metadata": {
        "id": "q1BmJIPbyEll"
      },
      "execution_count": 10,
      "outputs": []
    },
    {
      "cell_type": "code",
      "source": [
        "# Combine Year, Month, OrderType\n",
        "active_data['CLUSTER_NAME'] = active_data['LONG_TEXT_DES'] + active_data['ORDER_TYPE'] +  active_data['YEAR'].astype(str) + active_data['MONTH'].astype(str) \n",
        "# active_data.head(2)"
      ],
      "metadata": {
        "id": "rulsOBA7wtHv"
      },
      "execution_count": 11,
      "outputs": []
    },
    {
      "cell_type": "code",
      "source": [
        "# test_df = active_data[active_data['LONG_TEXT'] == 4100000437] \n",
        "# Getting a copy of dataframe from original with only two columns\n",
        "cluster_df = active_data[['CLUSTER_NAME','VENDOR_OR_CREDITOR_CODE']].copy()\n",
        "cluster_df = cluster_df.dropna(how='any',axis=0)\n",
        "# cluster_df"
      ],
      "metadata": {
        "id": "FkBRToktxBfh"
      },
      "execution_count": 12,
      "outputs": []
    },
    {
      "cell_type": "code",
      "source": [
        "# # Getting a sub data frame starting names with \"TEA\"\n",
        "# cluster_df_tea = cluster_df.loc[test_df['CLUSTER_NAME'].str.startswith('TEA')].copy()\n",
        "# cluster_df_tea"
      ],
      "metadata": {
        "id": "GU5saHnkVltL"
      },
      "execution_count": 13,
      "outputs": []
    },
    {
      "cell_type": "code",
      "source": [
        "# Checking out qunique clusters within data frame\n",
        "unique_clusters = cluster_df.CLUSTER_NAME.unique()\n",
        "unique_clusters_df = pd.DataFrame(unique_clusters)\n",
        "unique_clusters_df.columns =['UNIQUE_CLUSTER_NAME']\n",
        "print(unique_clusters_df)"
      ],
      "metadata": {
        "colab": {
          "base_uri": "https://localhost:8080/"
        },
        "id": "AEa0y5Fk8Uz8",
        "outputId": "1d04fd87-d27c-4a2f-d995-d45402b26caa"
      },
      "execution_count": 14,
      "outputs": [
        {
          "output_type": "stream",
          "name": "stdout",
          "text": [
            "                             UNIQUE_CLUSTER_NAME\n",
            "0       SUPPLY&DELIVERYOFAIRCRAFTWARNINGLMK20119\n",
            "1       SUPPLYOFSOUNDPROOFINGOFOPENTYPEGEMK20111\n",
            "2     SUPPLY,DELIVERY,OFSPARESFORRECTIFIEMK20112\n",
            "3                         COMMERCIALORDERMK20114\n",
            "4                                       PMK20114\n",
            "...                                          ...\n",
            "1434             PAYMENTOFBBCEARTHCHANNELWK20227\n",
            "1435   REMOVALSOFEQUIPMENTRELATEDTODTVANDWK20227\n",
            "1436     FIREWALLSECURITYSOLUTIONSERVICESWK20227\n",
            "1437   REMOVALSOFEQUIPMENTRELATEDTODTVANDWK20228\n",
            "1438    FULLLEVELREPAIROFLTE,DTV,DEDEVICEWK20224\n",
            "\n",
            "[1439 rows x 1 columns]\n"
          ]
        }
      ]
    },
    {
      "cell_type": "code",
      "source": [
        "# # Get the total count of rows per unique cluster, not passing the distinct row count per cluster\n",
        "# test_df_vendor_count = test_df_tea.groupby('CLUSTER_NAME')['VENDOR_OR_CREDITOR_CODE'].count()\n",
        "# test_df_vendor_count"
      ],
      "metadata": {
        "id": "bADafsyzBwPU"
      },
      "execution_count": 15,
      "outputs": []
    },
    {
      "cell_type": "code",
      "source": [
        "# Getting the number of unique vendors assgined per unique cluster\n",
        "cluster_df_vendor_count_arry = cluster_df.groupby('CLUSTER_NAME')['VENDOR_OR_CREDITOR_CODE'].nunique()\n",
        "cluster_df_vendor_count = pd.DataFrame(cluster_df_vendor_count_arry)\n",
        "cluster_df_vendor_count.rename(columns = {'VENDOR_OR_CREDITOR_CODE':'VENDOR_COUNT'}, inplace = True)\n",
        "# cluster_df_vendor_count"
      ],
      "metadata": {
        "id": "vOhmSl4r_dMg"
      },
      "execution_count": 16,
      "outputs": []
    },
    {
      "cell_type": "code",
      "source": [
        "# Removing the clusters where vendor count is less than 1\n",
        "contracts_cluster_df = cluster_df_vendor_count[cluster_df_vendor_count['VENDOR_COUNT'] > 1]\n",
        "\n",
        "# Indexing the clusters starting from 0\n",
        "contracts_cluster_df['CLUSTER_NUM'] = contracts_cluster_df.reset_index().index\n",
        "contracts_cluster_df"
      ],
      "metadata": {
        "colab": {
          "base_uri": "https://localhost:8080/",
          "height": 455
        },
        "id": "CuMLgPb0Bgy1",
        "outputId": "bc76566c-fcb3-4877-b99e-21434a2b8679"
      },
      "execution_count": 17,
      "outputs": [
        {
          "output_type": "execute_result",
          "data": {
            "text/plain": [
              "                                              VENDOR_COUNT  CLUSTER_NUM\n",
              "CLUSTER_NAME                                                           \n",
              "10016547WK20117                                          3            0\n",
              "ACBREAKDOWNMAINTENANCEATDIALOGSITESWK20148               9            1\n",
              "ACCESSORIES,BATTERIESANDADAPTORSRATEMK20146              2            2\n",
              "ACCESSORIES,BATTERIESANDADAPTORSWK20214                  2            3\n",
              "ADMINPRINTINGANDMERCHANDISINGRATECAMK20156               7            4\n",
              "...                                                    ...          ...\n",
              "TOWERANDCABINMAINTENANCESWK20113                         5          217\n",
              "TOWERANDCABINMAINTENANCEWK201910                        10          218\n",
              "TRANSPORTATIONCONTRACTWK201910                           3          219\n",
              "TRANSPORTSERVICESFORWAREHOUSEOPERATIWK201910             4          220\n",
              "UNIFORMMK20126                                           3          221\n",
              "\n",
              "[222 rows x 2 columns]"
            ],
            "text/html": [
              "\n",
              "  <div id=\"df-23650285-95bb-439a-9ce8-aaacd578b37f\">\n",
              "    <div class=\"colab-df-container\">\n",
              "      <div>\n",
              "<style scoped>\n",
              "    .dataframe tbody tr th:only-of-type {\n",
              "        vertical-align: middle;\n",
              "    }\n",
              "\n",
              "    .dataframe tbody tr th {\n",
              "        vertical-align: top;\n",
              "    }\n",
              "\n",
              "    .dataframe thead th {\n",
              "        text-align: right;\n",
              "    }\n",
              "</style>\n",
              "<table border=\"1\" class=\"dataframe\">\n",
              "  <thead>\n",
              "    <tr style=\"text-align: right;\">\n",
              "      <th></th>\n",
              "      <th>VENDOR_COUNT</th>\n",
              "      <th>CLUSTER_NUM</th>\n",
              "    </tr>\n",
              "    <tr>\n",
              "      <th>CLUSTER_NAME</th>\n",
              "      <th></th>\n",
              "      <th></th>\n",
              "    </tr>\n",
              "  </thead>\n",
              "  <tbody>\n",
              "    <tr>\n",
              "      <th>10016547WK20117</th>\n",
              "      <td>3</td>\n",
              "      <td>0</td>\n",
              "    </tr>\n",
              "    <tr>\n",
              "      <th>ACBREAKDOWNMAINTENANCEATDIALOGSITESWK20148</th>\n",
              "      <td>9</td>\n",
              "      <td>1</td>\n",
              "    </tr>\n",
              "    <tr>\n",
              "      <th>ACCESSORIES,BATTERIESANDADAPTORSRATEMK20146</th>\n",
              "      <td>2</td>\n",
              "      <td>2</td>\n",
              "    </tr>\n",
              "    <tr>\n",
              "      <th>ACCESSORIES,BATTERIESANDADAPTORSWK20214</th>\n",
              "      <td>2</td>\n",
              "      <td>3</td>\n",
              "    </tr>\n",
              "    <tr>\n",
              "      <th>ADMINPRINTINGANDMERCHANDISINGRATECAMK20156</th>\n",
              "      <td>7</td>\n",
              "      <td>4</td>\n",
              "    </tr>\n",
              "    <tr>\n",
              "      <th>...</th>\n",
              "      <td>...</td>\n",
              "      <td>...</td>\n",
              "    </tr>\n",
              "    <tr>\n",
              "      <th>TOWERANDCABINMAINTENANCESWK20113</th>\n",
              "      <td>5</td>\n",
              "      <td>217</td>\n",
              "    </tr>\n",
              "    <tr>\n",
              "      <th>TOWERANDCABINMAINTENANCEWK201910</th>\n",
              "      <td>10</td>\n",
              "      <td>218</td>\n",
              "    </tr>\n",
              "    <tr>\n",
              "      <th>TRANSPORTATIONCONTRACTWK201910</th>\n",
              "      <td>3</td>\n",
              "      <td>219</td>\n",
              "    </tr>\n",
              "    <tr>\n",
              "      <th>TRANSPORTSERVICESFORWAREHOUSEOPERATIWK201910</th>\n",
              "      <td>4</td>\n",
              "      <td>220</td>\n",
              "    </tr>\n",
              "    <tr>\n",
              "      <th>UNIFORMMK20126</th>\n",
              "      <td>3</td>\n",
              "      <td>221</td>\n",
              "    </tr>\n",
              "  </tbody>\n",
              "</table>\n",
              "<p>222 rows × 2 columns</p>\n",
              "</div>\n",
              "      <button class=\"colab-df-convert\" onclick=\"convertToInteractive('df-23650285-95bb-439a-9ce8-aaacd578b37f')\"\n",
              "              title=\"Convert this dataframe to an interactive table.\"\n",
              "              style=\"display:none;\">\n",
              "        \n",
              "  <svg xmlns=\"http://www.w3.org/2000/svg\" height=\"24px\"viewBox=\"0 0 24 24\"\n",
              "       width=\"24px\">\n",
              "    <path d=\"M0 0h24v24H0V0z\" fill=\"none\"/>\n",
              "    <path d=\"M18.56 5.44l.94 2.06.94-2.06 2.06-.94-2.06-.94-.94-2.06-.94 2.06-2.06.94zm-11 1L8.5 8.5l.94-2.06 2.06-.94-2.06-.94L8.5 2.5l-.94 2.06-2.06.94zm10 10l.94 2.06.94-2.06 2.06-.94-2.06-.94-.94-2.06-.94 2.06-2.06.94z\"/><path d=\"M17.41 7.96l-1.37-1.37c-.4-.4-.92-.59-1.43-.59-.52 0-1.04.2-1.43.59L10.3 9.45l-7.72 7.72c-.78.78-.78 2.05 0 2.83L4 21.41c.39.39.9.59 1.41.59.51 0 1.02-.2 1.41-.59l7.78-7.78 2.81-2.81c.8-.78.8-2.07 0-2.86zM5.41 20L4 18.59l7.72-7.72 1.47 1.35L5.41 20z\"/>\n",
              "  </svg>\n",
              "      </button>\n",
              "      \n",
              "  <style>\n",
              "    .colab-df-container {\n",
              "      display:flex;\n",
              "      flex-wrap:wrap;\n",
              "      gap: 12px;\n",
              "    }\n",
              "\n",
              "    .colab-df-convert {\n",
              "      background-color: #E8F0FE;\n",
              "      border: none;\n",
              "      border-radius: 50%;\n",
              "      cursor: pointer;\n",
              "      display: none;\n",
              "      fill: #1967D2;\n",
              "      height: 32px;\n",
              "      padding: 0 0 0 0;\n",
              "      width: 32px;\n",
              "    }\n",
              "\n",
              "    .colab-df-convert:hover {\n",
              "      background-color: #E2EBFA;\n",
              "      box-shadow: 0px 1px 2px rgba(60, 64, 67, 0.3), 0px 1px 3px 1px rgba(60, 64, 67, 0.15);\n",
              "      fill: #174EA6;\n",
              "    }\n",
              "\n",
              "    [theme=dark] .colab-df-convert {\n",
              "      background-color: #3B4455;\n",
              "      fill: #D2E3FC;\n",
              "    }\n",
              "\n",
              "    [theme=dark] .colab-df-convert:hover {\n",
              "      background-color: #434B5C;\n",
              "      box-shadow: 0px 1px 3px 1px rgba(0, 0, 0, 0.15);\n",
              "      filter: drop-shadow(0px 1px 2px rgba(0, 0, 0, 0.3));\n",
              "      fill: #FFFFFF;\n",
              "    }\n",
              "  </style>\n",
              "\n",
              "      <script>\n",
              "        const buttonEl =\n",
              "          document.querySelector('#df-23650285-95bb-439a-9ce8-aaacd578b37f button.colab-df-convert');\n",
              "        buttonEl.style.display =\n",
              "          google.colab.kernel.accessAllowed ? 'block' : 'none';\n",
              "\n",
              "        async function convertToInteractive(key) {\n",
              "          const element = document.querySelector('#df-23650285-95bb-439a-9ce8-aaacd578b37f');\n",
              "          const dataTable =\n",
              "            await google.colab.kernel.invokeFunction('convertToInteractive',\n",
              "                                                     [key], {});\n",
              "          if (!dataTable) return;\n",
              "\n",
              "          const docLinkHtml = 'Like what you see? Visit the ' +\n",
              "            '<a target=\"_blank\" href=https://colab.research.google.com/notebooks/data_table.ipynb>data table notebook</a>'\n",
              "            + ' to learn more about interactive tables.';\n",
              "          element.innerHTML = '';\n",
              "          dataTable['output_type'] = 'display_data';\n",
              "          await google.colab.output.renderOutput(dataTable, element);\n",
              "          const docLink = document.createElement('div');\n",
              "          docLink.innerHTML = docLinkHtml;\n",
              "          element.appendChild(docLink);\n",
              "        }\n",
              "      </script>\n",
              "    </div>\n",
              "  </div>\n",
              "  "
            ]
          },
          "metadata": {},
          "execution_count": 17
        }
      ]
    },
    {
      "cell_type": "code",
      "source": [
        "# Merging the orginal data set with the clustered contracts data set\n",
        "final_data_arry = pd.merge(active_data, contracts_cluster_df, on='CLUSTER_NAME',how='left')\n",
        "final_data = pd.DataFrame(final_data_arry)\n",
        "final_data"
      ],
      "metadata": {
        "colab": {
          "base_uri": "https://localhost:8080/",
          "height": 1000
        },
        "id": "01EK-0m5IOvj",
        "outputId": "3667560a-ac7b-4191-d793-14a469f68acf"
      },
      "execution_count": 18,
      "outputs": [
        {
          "output_type": "execute_result",
          "data": {
            "text/plain": [
              "       CONTRACT_ID  PURCH_DOC_ITEM_NO ORDER_TYPE VENDOR_OR_CREDITOR_CODE  \\\n",
              "0       4100000000                 10         MK                  100029   \n",
              "1       4100000000                 20         MK                  100029   \n",
              "2       4100000000                 30         MK                  100029   \n",
              "3       4100000000                 40         MK                  100029   \n",
              "4       4100000002                 10         MK                  100157   \n",
              "...            ...                ...        ...                     ...   \n",
              "17203   4200001209                 10         WK                  104724   \n",
              "17204   4200001210                 10         WK                  102317   \n",
              "17205   4200001211                 10         WK                  103209   \n",
              "17206   4200001212                 10         WK                  511882   \n",
              "17207   4200001213                 10         WK                  506149   \n",
              "\n",
              "                                     SHORT_TEXT CURRENCY_KEY  \\\n",
              "0         MODULE AC 650 352 -&- Power & utility          LKR   \n",
              "1             Generator Accessories 650-091 PCB          LKR   \n",
              "2         ENGINE INTERFACE MODULE 630 088  630          LKR   \n",
              "3        Generator Accessories 7.5 kVA Radiator          LKR   \n",
              "4                    FCS-AirsysFCB-Inlet/Outlet          USD   \n",
              "...                                         ...          ...   \n",
              "17203  Removals of equipment related to DTV and          LKR   \n",
              "17204  Full Level Repair of LTE, DTV, DE Device          LKR   \n",
              "17205  Full Level Repair of LTE, DTV, DE Device          LKR   \n",
              "17206  Full Level Repair of LTE, DTV, DE Device          LKR   \n",
              "17207  Full Level Repair of LTE, DTV, DE Device          LKR   \n",
              "\n",
              "      TARGET_VALUE_HEADER_AREA_PER_DISTRIBUTION RELEASED_VALUE  \\\n",
              "0                                          0.00           0.00   \n",
              "1                                          0.00           0.00   \n",
              "2                                          0.00           0.00   \n",
              "3                                          0.00           0.00   \n",
              "4                                          0.00           0.00   \n",
              "...                                         ...            ...   \n",
              "17203                              5,308,000.00           0.00   \n",
              "17204                            114,462,000.00           0.00   \n",
              "17205                             98,316,000.00           0.00   \n",
              "17206                            111,617,557.50           0.00   \n",
              "17207                             46,836,667.50           0.00   \n",
              "\n",
              "      TOTAL_OPEN_VALUE VALIDITY_START_DATE  ... PURCH_GROUP  \\\n",
              "0                 0.00           3/30/2011  ...         004   \n",
              "1                 0.00           3/30/2011  ...         004   \n",
              "2                 0.00           3/30/2011  ...         004   \n",
              "3                 0.00           3/30/2011  ...         004   \n",
              "4                 0.00           4/20/2010  ...         001   \n",
              "...                ...                 ...  ...         ...   \n",
              "17203     5,308,000.00           8/17/2022  ...         B13   \n",
              "17204   114,462,000.00            4/1/2022  ...         T10   \n",
              "17205    98,316,000.00            4/1/2022  ...         T10   \n",
              "17206   111,617,557.50            4/1/2022  ...         T10   \n",
              "17207    46,836,667.50            4/1/2022  ...         T10   \n",
              "\n",
              "                                      LONG_TEXT  SALES_PERSON  \\\n",
              "0                                           NaN           NaN   \n",
              "1                                           NaN           NaN   \n",
              "2                                           NaN           NaN   \n",
              "3                                           NaN           NaN   \n",
              "4                                           NaN           NaN   \n",
              "...                                         ...           ...   \n",
              "17203  Removals of equipment related to DTV and        D00879   \n",
              "17204  Full Level Repair of LTE, DTV, DE Device        D01783   \n",
              "17205  Full Level Repair of LTE, DTV, DE Device        D01783   \n",
              "17206  Full Level Repair of LTE, DTV, DE Device        D01783   \n",
              "17207  Full Level Repair of LTE, DTV, DE Device        D01783   \n",
              "\n",
              "      DELETION_INDICATOR  YEAR MONTH                       LONG_TEXT_DES  \\\n",
              "0                    NaN  2011     3                                 NaN   \n",
              "1                    NaN  2011     3                                 NaN   \n",
              "2                    NaN  2011     3                                 NaN   \n",
              "3                    NaN  2011     3                                 NaN   \n",
              "4                    NaN  2010     4                                 NaN   \n",
              "...                  ...   ...   ...                                 ...   \n",
              "17203                NaN  2022     8  REMOVALSOFEQUIPMENTRELATEDTODTVAND   \n",
              "17204                NaN  2022     4   FULLLEVELREPAIROFLTE,DTV,DEDEVICE   \n",
              "17205                NaN  2022     4   FULLLEVELREPAIROFLTE,DTV,DEDEVICE   \n",
              "17206                NaN  2022     4   FULLLEVELREPAIROFLTE,DTV,DEDEVICE   \n",
              "17207                NaN  2022     4   FULLLEVELREPAIROFLTE,DTV,DEDEVICE   \n",
              "\n",
              "                                    CLUSTER_NAME VENDOR_COUNT CLUSTER_NUM  \n",
              "0                                            NaN          NaN         NaN  \n",
              "1                                            NaN          NaN         NaN  \n",
              "2                                            NaN          NaN         NaN  \n",
              "3                                            NaN          NaN         NaN  \n",
              "4                                            NaN          NaN         NaN  \n",
              "...                                          ...          ...         ...  \n",
              "17203  REMOVALSOFEQUIPMENTRELATEDTODTVANDWK20228          NaN         NaN  \n",
              "17204   FULLLEVELREPAIROFLTE,DTV,DEDEVICEWK20224          4.0        65.0  \n",
              "17205   FULLLEVELREPAIROFLTE,DTV,DEDEVICEWK20224          4.0        65.0  \n",
              "17206   FULLLEVELREPAIROFLTE,DTV,DEDEVICEWK20224          4.0        65.0  \n",
              "17207   FULLLEVELREPAIROFLTE,DTV,DEDEVICEWK20224          4.0        65.0  \n",
              "\n",
              "[17208 rows x 30 columns]"
            ],
            "text/html": [
              "\n",
              "  <div id=\"df-549ecdb1-d8a5-47c4-a6d3-18077a685030\">\n",
              "    <div class=\"colab-df-container\">\n",
              "      <div>\n",
              "<style scoped>\n",
              "    .dataframe tbody tr th:only-of-type {\n",
              "        vertical-align: middle;\n",
              "    }\n",
              "\n",
              "    .dataframe tbody tr th {\n",
              "        vertical-align: top;\n",
              "    }\n",
              "\n",
              "    .dataframe thead th {\n",
              "        text-align: right;\n",
              "    }\n",
              "</style>\n",
              "<table border=\"1\" class=\"dataframe\">\n",
              "  <thead>\n",
              "    <tr style=\"text-align: right;\">\n",
              "      <th></th>\n",
              "      <th>CONTRACT_ID</th>\n",
              "      <th>PURCH_DOC_ITEM_NO</th>\n",
              "      <th>ORDER_TYPE</th>\n",
              "      <th>VENDOR_OR_CREDITOR_CODE</th>\n",
              "      <th>SHORT_TEXT</th>\n",
              "      <th>CURRENCY_KEY</th>\n",
              "      <th>TARGET_VALUE_HEADER_AREA_PER_DISTRIBUTION</th>\n",
              "      <th>RELEASED_VALUE</th>\n",
              "      <th>TOTAL_OPEN_VALUE</th>\n",
              "      <th>VALIDITY_START_DATE</th>\n",
              "      <th>...</th>\n",
              "      <th>PURCH_GROUP</th>\n",
              "      <th>LONG_TEXT</th>\n",
              "      <th>SALES_PERSON</th>\n",
              "      <th>DELETION_INDICATOR</th>\n",
              "      <th>YEAR</th>\n",
              "      <th>MONTH</th>\n",
              "      <th>LONG_TEXT_DES</th>\n",
              "      <th>CLUSTER_NAME</th>\n",
              "      <th>VENDOR_COUNT</th>\n",
              "      <th>CLUSTER_NUM</th>\n",
              "    </tr>\n",
              "  </thead>\n",
              "  <tbody>\n",
              "    <tr>\n",
              "      <th>0</th>\n",
              "      <td>4100000000</td>\n",
              "      <td>10</td>\n",
              "      <td>MK</td>\n",
              "      <td>100029</td>\n",
              "      <td>MODULE AC 650 352 -&amp;- Power &amp; utility</td>\n",
              "      <td>LKR</td>\n",
              "      <td>0.00</td>\n",
              "      <td>0.00</td>\n",
              "      <td>0.00</td>\n",
              "      <td>3/30/2011</td>\n",
              "      <td>...</td>\n",
              "      <td>004</td>\n",
              "      <td>NaN</td>\n",
              "      <td>NaN</td>\n",
              "      <td>NaN</td>\n",
              "      <td>2011</td>\n",
              "      <td>3</td>\n",
              "      <td>NaN</td>\n",
              "      <td>NaN</td>\n",
              "      <td>NaN</td>\n",
              "      <td>NaN</td>\n",
              "    </tr>\n",
              "    <tr>\n",
              "      <th>1</th>\n",
              "      <td>4100000000</td>\n",
              "      <td>20</td>\n",
              "      <td>MK</td>\n",
              "      <td>100029</td>\n",
              "      <td>Generator Accessories 650-091 PCB</td>\n",
              "      <td>LKR</td>\n",
              "      <td>0.00</td>\n",
              "      <td>0.00</td>\n",
              "      <td>0.00</td>\n",
              "      <td>3/30/2011</td>\n",
              "      <td>...</td>\n",
              "      <td>004</td>\n",
              "      <td>NaN</td>\n",
              "      <td>NaN</td>\n",
              "      <td>NaN</td>\n",
              "      <td>2011</td>\n",
              "      <td>3</td>\n",
              "      <td>NaN</td>\n",
              "      <td>NaN</td>\n",
              "      <td>NaN</td>\n",
              "      <td>NaN</td>\n",
              "    </tr>\n",
              "    <tr>\n",
              "      <th>2</th>\n",
              "      <td>4100000000</td>\n",
              "      <td>30</td>\n",
              "      <td>MK</td>\n",
              "      <td>100029</td>\n",
              "      <td>ENGINE INTERFACE MODULE 630 088  630</td>\n",
              "      <td>LKR</td>\n",
              "      <td>0.00</td>\n",
              "      <td>0.00</td>\n",
              "      <td>0.00</td>\n",
              "      <td>3/30/2011</td>\n",
              "      <td>...</td>\n",
              "      <td>004</td>\n",
              "      <td>NaN</td>\n",
              "      <td>NaN</td>\n",
              "      <td>NaN</td>\n",
              "      <td>2011</td>\n",
              "      <td>3</td>\n",
              "      <td>NaN</td>\n",
              "      <td>NaN</td>\n",
              "      <td>NaN</td>\n",
              "      <td>NaN</td>\n",
              "    </tr>\n",
              "    <tr>\n",
              "      <th>3</th>\n",
              "      <td>4100000000</td>\n",
              "      <td>40</td>\n",
              "      <td>MK</td>\n",
              "      <td>100029</td>\n",
              "      <td>Generator Accessories 7.5 kVA Radiator</td>\n",
              "      <td>LKR</td>\n",
              "      <td>0.00</td>\n",
              "      <td>0.00</td>\n",
              "      <td>0.00</td>\n",
              "      <td>3/30/2011</td>\n",
              "      <td>...</td>\n",
              "      <td>004</td>\n",
              "      <td>NaN</td>\n",
              "      <td>NaN</td>\n",
              "      <td>NaN</td>\n",
              "      <td>2011</td>\n",
              "      <td>3</td>\n",
              "      <td>NaN</td>\n",
              "      <td>NaN</td>\n",
              "      <td>NaN</td>\n",
              "      <td>NaN</td>\n",
              "    </tr>\n",
              "    <tr>\n",
              "      <th>4</th>\n",
              "      <td>4100000002</td>\n",
              "      <td>10</td>\n",
              "      <td>MK</td>\n",
              "      <td>100157</td>\n",
              "      <td>FCS-AirsysFCB-Inlet/Outlet</td>\n",
              "      <td>USD</td>\n",
              "      <td>0.00</td>\n",
              "      <td>0.00</td>\n",
              "      <td>0.00</td>\n",
              "      <td>4/20/2010</td>\n",
              "      <td>...</td>\n",
              "      <td>001</td>\n",
              "      <td>NaN</td>\n",
              "      <td>NaN</td>\n",
              "      <td>NaN</td>\n",
              "      <td>2010</td>\n",
              "      <td>4</td>\n",
              "      <td>NaN</td>\n",
              "      <td>NaN</td>\n",
              "      <td>NaN</td>\n",
              "      <td>NaN</td>\n",
              "    </tr>\n",
              "    <tr>\n",
              "      <th>...</th>\n",
              "      <td>...</td>\n",
              "      <td>...</td>\n",
              "      <td>...</td>\n",
              "      <td>...</td>\n",
              "      <td>...</td>\n",
              "      <td>...</td>\n",
              "      <td>...</td>\n",
              "      <td>...</td>\n",
              "      <td>...</td>\n",
              "      <td>...</td>\n",
              "      <td>...</td>\n",
              "      <td>...</td>\n",
              "      <td>...</td>\n",
              "      <td>...</td>\n",
              "      <td>...</td>\n",
              "      <td>...</td>\n",
              "      <td>...</td>\n",
              "      <td>...</td>\n",
              "      <td>...</td>\n",
              "      <td>...</td>\n",
              "      <td>...</td>\n",
              "    </tr>\n",
              "    <tr>\n",
              "      <th>17203</th>\n",
              "      <td>4200001209</td>\n",
              "      <td>10</td>\n",
              "      <td>WK</td>\n",
              "      <td>104724</td>\n",
              "      <td>Removals of equipment related to DTV and</td>\n",
              "      <td>LKR</td>\n",
              "      <td>5,308,000.00</td>\n",
              "      <td>0.00</td>\n",
              "      <td>5,308,000.00</td>\n",
              "      <td>8/17/2022</td>\n",
              "      <td>...</td>\n",
              "      <td>B13</td>\n",
              "      <td>Removals of equipment related to DTV and</td>\n",
              "      <td>D00879</td>\n",
              "      <td>NaN</td>\n",
              "      <td>2022</td>\n",
              "      <td>8</td>\n",
              "      <td>REMOVALSOFEQUIPMENTRELATEDTODTVAND</td>\n",
              "      <td>REMOVALSOFEQUIPMENTRELATEDTODTVANDWK20228</td>\n",
              "      <td>NaN</td>\n",
              "      <td>NaN</td>\n",
              "    </tr>\n",
              "    <tr>\n",
              "      <th>17204</th>\n",
              "      <td>4200001210</td>\n",
              "      <td>10</td>\n",
              "      <td>WK</td>\n",
              "      <td>102317</td>\n",
              "      <td>Full Level Repair of LTE, DTV, DE Device</td>\n",
              "      <td>LKR</td>\n",
              "      <td>114,462,000.00</td>\n",
              "      <td>0.00</td>\n",
              "      <td>114,462,000.00</td>\n",
              "      <td>4/1/2022</td>\n",
              "      <td>...</td>\n",
              "      <td>T10</td>\n",
              "      <td>Full Level Repair of LTE, DTV, DE Device</td>\n",
              "      <td>D01783</td>\n",
              "      <td>NaN</td>\n",
              "      <td>2022</td>\n",
              "      <td>4</td>\n",
              "      <td>FULLLEVELREPAIROFLTE,DTV,DEDEVICE</td>\n",
              "      <td>FULLLEVELREPAIROFLTE,DTV,DEDEVICEWK20224</td>\n",
              "      <td>4.0</td>\n",
              "      <td>65.0</td>\n",
              "    </tr>\n",
              "    <tr>\n",
              "      <th>17205</th>\n",
              "      <td>4200001211</td>\n",
              "      <td>10</td>\n",
              "      <td>WK</td>\n",
              "      <td>103209</td>\n",
              "      <td>Full Level Repair of LTE, DTV, DE Device</td>\n",
              "      <td>LKR</td>\n",
              "      <td>98,316,000.00</td>\n",
              "      <td>0.00</td>\n",
              "      <td>98,316,000.00</td>\n",
              "      <td>4/1/2022</td>\n",
              "      <td>...</td>\n",
              "      <td>T10</td>\n",
              "      <td>Full Level Repair of LTE, DTV, DE Device</td>\n",
              "      <td>D01783</td>\n",
              "      <td>NaN</td>\n",
              "      <td>2022</td>\n",
              "      <td>4</td>\n",
              "      <td>FULLLEVELREPAIROFLTE,DTV,DEDEVICE</td>\n",
              "      <td>FULLLEVELREPAIROFLTE,DTV,DEDEVICEWK20224</td>\n",
              "      <td>4.0</td>\n",
              "      <td>65.0</td>\n",
              "    </tr>\n",
              "    <tr>\n",
              "      <th>17206</th>\n",
              "      <td>4200001212</td>\n",
              "      <td>10</td>\n",
              "      <td>WK</td>\n",
              "      <td>511882</td>\n",
              "      <td>Full Level Repair of LTE, DTV, DE Device</td>\n",
              "      <td>LKR</td>\n",
              "      <td>111,617,557.50</td>\n",
              "      <td>0.00</td>\n",
              "      <td>111,617,557.50</td>\n",
              "      <td>4/1/2022</td>\n",
              "      <td>...</td>\n",
              "      <td>T10</td>\n",
              "      <td>Full Level Repair of LTE, DTV, DE Device</td>\n",
              "      <td>D01783</td>\n",
              "      <td>NaN</td>\n",
              "      <td>2022</td>\n",
              "      <td>4</td>\n",
              "      <td>FULLLEVELREPAIROFLTE,DTV,DEDEVICE</td>\n",
              "      <td>FULLLEVELREPAIROFLTE,DTV,DEDEVICEWK20224</td>\n",
              "      <td>4.0</td>\n",
              "      <td>65.0</td>\n",
              "    </tr>\n",
              "    <tr>\n",
              "      <th>17207</th>\n",
              "      <td>4200001213</td>\n",
              "      <td>10</td>\n",
              "      <td>WK</td>\n",
              "      <td>506149</td>\n",
              "      <td>Full Level Repair of LTE, DTV, DE Device</td>\n",
              "      <td>LKR</td>\n",
              "      <td>46,836,667.50</td>\n",
              "      <td>0.00</td>\n",
              "      <td>46,836,667.50</td>\n",
              "      <td>4/1/2022</td>\n",
              "      <td>...</td>\n",
              "      <td>T10</td>\n",
              "      <td>Full Level Repair of LTE, DTV, DE Device</td>\n",
              "      <td>D01783</td>\n",
              "      <td>NaN</td>\n",
              "      <td>2022</td>\n",
              "      <td>4</td>\n",
              "      <td>FULLLEVELREPAIROFLTE,DTV,DEDEVICE</td>\n",
              "      <td>FULLLEVELREPAIROFLTE,DTV,DEDEVICEWK20224</td>\n",
              "      <td>4.0</td>\n",
              "      <td>65.0</td>\n",
              "    </tr>\n",
              "  </tbody>\n",
              "</table>\n",
              "<p>17208 rows × 30 columns</p>\n",
              "</div>\n",
              "      <button class=\"colab-df-convert\" onclick=\"convertToInteractive('df-549ecdb1-d8a5-47c4-a6d3-18077a685030')\"\n",
              "              title=\"Convert this dataframe to an interactive table.\"\n",
              "              style=\"display:none;\">\n",
              "        \n",
              "  <svg xmlns=\"http://www.w3.org/2000/svg\" height=\"24px\"viewBox=\"0 0 24 24\"\n",
              "       width=\"24px\">\n",
              "    <path d=\"M0 0h24v24H0V0z\" fill=\"none\"/>\n",
              "    <path d=\"M18.56 5.44l.94 2.06.94-2.06 2.06-.94-2.06-.94-.94-2.06-.94 2.06-2.06.94zm-11 1L8.5 8.5l.94-2.06 2.06-.94-2.06-.94L8.5 2.5l-.94 2.06-2.06.94zm10 10l.94 2.06.94-2.06 2.06-.94-2.06-.94-.94-2.06-.94 2.06-2.06.94z\"/><path d=\"M17.41 7.96l-1.37-1.37c-.4-.4-.92-.59-1.43-.59-.52 0-1.04.2-1.43.59L10.3 9.45l-7.72 7.72c-.78.78-.78 2.05 0 2.83L4 21.41c.39.39.9.59 1.41.59.51 0 1.02-.2 1.41-.59l7.78-7.78 2.81-2.81c.8-.78.8-2.07 0-2.86zM5.41 20L4 18.59l7.72-7.72 1.47 1.35L5.41 20z\"/>\n",
              "  </svg>\n",
              "      </button>\n",
              "      \n",
              "  <style>\n",
              "    .colab-df-container {\n",
              "      display:flex;\n",
              "      flex-wrap:wrap;\n",
              "      gap: 12px;\n",
              "    }\n",
              "\n",
              "    .colab-df-convert {\n",
              "      background-color: #E8F0FE;\n",
              "      border: none;\n",
              "      border-radius: 50%;\n",
              "      cursor: pointer;\n",
              "      display: none;\n",
              "      fill: #1967D2;\n",
              "      height: 32px;\n",
              "      padding: 0 0 0 0;\n",
              "      width: 32px;\n",
              "    }\n",
              "\n",
              "    .colab-df-convert:hover {\n",
              "      background-color: #E2EBFA;\n",
              "      box-shadow: 0px 1px 2px rgba(60, 64, 67, 0.3), 0px 1px 3px 1px rgba(60, 64, 67, 0.15);\n",
              "      fill: #174EA6;\n",
              "    }\n",
              "\n",
              "    [theme=dark] .colab-df-convert {\n",
              "      background-color: #3B4455;\n",
              "      fill: #D2E3FC;\n",
              "    }\n",
              "\n",
              "    [theme=dark] .colab-df-convert:hover {\n",
              "      background-color: #434B5C;\n",
              "      box-shadow: 0px 1px 3px 1px rgba(0, 0, 0, 0.15);\n",
              "      filter: drop-shadow(0px 1px 2px rgba(0, 0, 0, 0.3));\n",
              "      fill: #FFFFFF;\n",
              "    }\n",
              "  </style>\n",
              "\n",
              "      <script>\n",
              "        const buttonEl =\n",
              "          document.querySelector('#df-549ecdb1-d8a5-47c4-a6d3-18077a685030 button.colab-df-convert');\n",
              "        buttonEl.style.display =\n",
              "          google.colab.kernel.accessAllowed ? 'block' : 'none';\n",
              "\n",
              "        async function convertToInteractive(key) {\n",
              "          const element = document.querySelector('#df-549ecdb1-d8a5-47c4-a6d3-18077a685030');\n",
              "          const dataTable =\n",
              "            await google.colab.kernel.invokeFunction('convertToInteractive',\n",
              "                                                     [key], {});\n",
              "          if (!dataTable) return;\n",
              "\n",
              "          const docLinkHtml = 'Like what you see? Visit the ' +\n",
              "            '<a target=\"_blank\" href=https://colab.research.google.com/notebooks/data_table.ipynb>data table notebook</a>'\n",
              "            + ' to learn more about interactive tables.';\n",
              "          element.innerHTML = '';\n",
              "          dataTable['output_type'] = 'display_data';\n",
              "          await google.colab.output.renderOutput(dataTable, element);\n",
              "          const docLink = document.createElement('div');\n",
              "          docLink.innerHTML = docLinkHtml;\n",
              "          element.appendChild(docLink);\n",
              "        }\n",
              "      </script>\n",
              "    </div>\n",
              "  </div>\n",
              "  "
            ]
          },
          "metadata": {},
          "execution_count": 18
        }
      ]
    },
    {
      "cell_type": "code",
      "source": [
        "# Downloading the data set in to local machine\n",
        "final_data.to_csv('ContractData.csv') \n",
        "files.download('ContractData.csv')"
      ],
      "metadata": {
        "colab": {
          "base_uri": "https://localhost:8080/",
          "height": 17
        },
        "id": "7sTvxYZcg5GZ",
        "outputId": "a909bc78-0477-4b5d-e247-3fbf37cf4e5d"
      },
      "execution_count": 21,
      "outputs": [
        {
          "output_type": "display_data",
          "data": {
            "text/plain": [
              "<IPython.core.display.Javascript object>"
            ],
            "application/javascript": [
              "\n",
              "    async function download(id, filename, size) {\n",
              "      if (!google.colab.kernel.accessAllowed) {\n",
              "        return;\n",
              "      }\n",
              "      const div = document.createElement('div');\n",
              "      const label = document.createElement('label');\n",
              "      label.textContent = `Downloading \"${filename}\": `;\n",
              "      div.appendChild(label);\n",
              "      const progress = document.createElement('progress');\n",
              "      progress.max = size;\n",
              "      div.appendChild(progress);\n",
              "      document.body.appendChild(div);\n",
              "\n",
              "      const buffers = [];\n",
              "      let downloaded = 0;\n",
              "\n",
              "      const channel = await google.colab.kernel.comms.open(id);\n",
              "      // Send a message to notify the kernel that we're ready.\n",
              "      channel.send({})\n",
              "\n",
              "      for await (const message of channel.messages) {\n",
              "        // Send a message to notify the kernel that we're ready.\n",
              "        channel.send({})\n",
              "        if (message.buffers) {\n",
              "          for (const buffer of message.buffers) {\n",
              "            buffers.push(buffer);\n",
              "            downloaded += buffer.byteLength;\n",
              "            progress.value = downloaded;\n",
              "          }\n",
              "        }\n",
              "      }\n",
              "      const blob = new Blob(buffers, {type: 'application/binary'});\n",
              "      const a = document.createElement('a');\n",
              "      a.href = window.URL.createObjectURL(blob);\n",
              "      a.download = filename;\n",
              "      div.appendChild(a);\n",
              "      a.click();\n",
              "      div.remove();\n",
              "    }\n",
              "  "
            ]
          },
          "metadata": {}
        },
        {
          "output_type": "display_data",
          "data": {
            "text/plain": [
              "<IPython.core.display.Javascript object>"
            ],
            "application/javascript": [
              "download(\"download_0981e953-6aa6-40d9-959c-6f40d089776a\", \"ContractData.csv\", 4609440)"
            ]
          },
          "metadata": {}
        }
      ]
    }
  ]
}