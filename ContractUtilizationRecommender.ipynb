{
  "nbformat": 4,
  "nbformat_minor": 0,
  "metadata": {
    "colab": {
      "name": "ContractUtilizationRecommender.ipynb",
      "provenance": [],
      "authorship_tag": "ABX9TyOB/h6bIulWWiCuxyX9KP7C",
      "include_colab_link": true
    },
    "kernelspec": {
      "name": "python3",
      "display_name": "Python 3"
    },
    "language_info": {
      "name": "python"
    }
  },
  "cells": [
    {
      "cell_type": "markdown",
      "metadata": {
        "id": "view-in-github",
        "colab_type": "text"
      },
      "source": [
        "<a href=\"https://colab.research.google.com/github/lahirumadushanfernando/ContractUtilizationRecommmender/blob/main/ContractUtilizationRecommender.ipynb\" target=\"_parent\"><img src=\"https://colab.research.google.com/assets/colab-badge.svg\" alt=\"Open In Colab\"/></a>"
      ]
    },
    {
      "cell_type": "code",
      "execution_count": 4,
      "metadata": {
        "id": "gHzmzQ3RT7PO"
      },
      "outputs": [],
      "source": [
        "import pandas as pd\n",
        "path = 'https://raw.githubusercontent.com/lahirumadushanfernando/ContractUtilizationRecommmender/main/ContractUtilizationRecommender.csv'\n",
        "sheet_name = 'ContractUtilizationRecommender'\n",
        "data = pd.read_csv(path, encoding = 'unicode_escape')\n",
        "\n"
      ]
    }
  ]
}